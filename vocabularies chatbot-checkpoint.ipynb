{
 "cells": [
  {
   "cell_type": "code",
   "execution_count": 10,
   "id": "55b8d689",
   "metadata": {},
   "outputs": [
    {
     "name": "stdout",
     "output_type": "stream",
     "text": [
      "Requirement already satisfied: nltk in c:\\users\\erica computer hub\\anaconda3\\new folder\\lib\\site-packages (3.7)\n",
      "Requirement already satisfied: click in c:\\users\\erica computer hub\\anaconda3\\new folder\\lib\\site-packages (from nltk) (8.0.4)\n",
      "Requirement already satisfied: joblib in c:\\users\\erica computer hub\\anaconda3\\new folder\\lib\\site-packages (from nltk) (1.2.0)\n",
      "Requirement already satisfied: regex>=2021.8.3 in c:\\users\\erica computer hub\\anaconda3\\new folder\\lib\\site-packages (from nltk) (2022.7.9)\n",
      "Requirement already satisfied: tqdm in c:\\users\\erica computer hub\\anaconda3\\new folder\\lib\\site-packages (from nltk) (4.65.0)\n",
      "Requirement already satisfied: colorama in c:\\users\\erica computer hub\\anaconda3\\new folder\\lib\\site-packages (from click->nltk) (0.4.6)\n",
      "Note: you may need to restart the kernel to use updated packages.\n"
     ]
    }
   ],
   "source": [
    "pip install nltk\n"
   ]
  },
  {
   "cell_type": "code",
   "execution_count": 12,
   "id": "e7d61b9a",
   "metadata": {},
   "outputs": [
    {
     "name": "stderr",
     "output_type": "stream",
     "text": [
      "[nltk_data] Downloading package punkt to C:\\Users\\ERICA COMPUTER\n",
      "[nltk_data]     HUB\\AppData\\Roaming\\nltk_data...\n",
      "[nltk_data]   Package punkt is already up-to-date!\n"
     ]
    },
    {
     "ename": "FileNotFoundError",
     "evalue": "[Errno 2] No such file or directory: 'vocabularies.json'",
     "output_type": "error",
     "traceback": [
      "\u001b[1;31m---------------------------------------------------------------------------\u001b[0m",
      "\u001b[1;31mFileNotFoundError\u001b[0m                         Traceback (most recent call last)",
      "Cell \u001b[1;32mIn[12], line 48\u001b[0m\n\u001b[0;32m     46\u001b[0m \u001b[38;5;66;03m# Load vocabularies from the JSON file\u001b[39;00m\n\u001b[0;32m     47\u001b[0m vocabularies_file \u001b[38;5;241m=\u001b[39m \u001b[38;5;124m\"\u001b[39m\u001b[38;5;124mvocabularies.json\u001b[39m\u001b[38;5;124m\"\u001b[39m\n\u001b[1;32m---> 48\u001b[0m vocabularies \u001b[38;5;241m=\u001b[39m load_vocabularies_from_json(vocabularies_file)\n\u001b[0;32m     50\u001b[0m \u001b[38;5;66;03m# Test the chatbot with some sample user interactions\u001b[39;00m\n\u001b[0;32m     51\u001b[0m user_name \u001b[38;5;241m=\u001b[39m \u001b[38;5;124m\"\u001b[39m\u001b[38;5;124malice\u001b[39m\u001b[38;5;124m\"\u001b[39m\n",
      "Cell \u001b[1;32mIn[12], line 10\u001b[0m, in \u001b[0;36mload_vocabularies_from_json\u001b[1;34m(json_file)\u001b[0m\n\u001b[0;32m      9\u001b[0m \u001b[38;5;28;01mdef\u001b[39;00m \u001b[38;5;21mload_vocabularies_from_json\u001b[39m(json_file):\n\u001b[1;32m---> 10\u001b[0m     \u001b[38;5;28;01mwith\u001b[39;00m \u001b[38;5;28mopen\u001b[39m(json_file, \u001b[38;5;124m\"\u001b[39m\u001b[38;5;124mr\u001b[39m\u001b[38;5;124m\"\u001b[39m) \u001b[38;5;28;01mas\u001b[39;00m file:\n\u001b[0;32m     11\u001b[0m         \u001b[38;5;28;01mreturn\u001b[39;00m json\u001b[38;5;241m.\u001b[39mload(file)\n",
      "File \u001b[1;32m~\\anaconda3\\New folder\\Lib\\site-packages\\IPython\\core\\interactiveshell.py:284\u001b[0m, in \u001b[0;36m_modified_open\u001b[1;34m(file, *args, **kwargs)\u001b[0m\n\u001b[0;32m    277\u001b[0m \u001b[38;5;28;01mif\u001b[39;00m file \u001b[38;5;129;01min\u001b[39;00m {\u001b[38;5;241m0\u001b[39m, \u001b[38;5;241m1\u001b[39m, \u001b[38;5;241m2\u001b[39m}:\n\u001b[0;32m    278\u001b[0m     \u001b[38;5;28;01mraise\u001b[39;00m \u001b[38;5;167;01mValueError\u001b[39;00m(\n\u001b[0;32m    279\u001b[0m         \u001b[38;5;124mf\u001b[39m\u001b[38;5;124m\"\u001b[39m\u001b[38;5;124mIPython won\u001b[39m\u001b[38;5;124m'\u001b[39m\u001b[38;5;124mt let you open fd=\u001b[39m\u001b[38;5;132;01m{\u001b[39;00mfile\u001b[38;5;132;01m}\u001b[39;00m\u001b[38;5;124m by default \u001b[39m\u001b[38;5;124m\"\u001b[39m\n\u001b[0;32m    280\u001b[0m         \u001b[38;5;124m\"\u001b[39m\u001b[38;5;124mas it is likely to crash IPython. If you know what you are doing, \u001b[39m\u001b[38;5;124m\"\u001b[39m\n\u001b[0;32m    281\u001b[0m         \u001b[38;5;124m\"\u001b[39m\u001b[38;5;124myou can use builtins\u001b[39m\u001b[38;5;124m'\u001b[39m\u001b[38;5;124m open.\u001b[39m\u001b[38;5;124m\"\u001b[39m\n\u001b[0;32m    282\u001b[0m     )\n\u001b[1;32m--> 284\u001b[0m \u001b[38;5;28;01mreturn\u001b[39;00m io_open(file, \u001b[38;5;241m*\u001b[39margs, \u001b[38;5;241m*\u001b[39m\u001b[38;5;241m*\u001b[39mkwargs)\n",
      "\u001b[1;31mFileNotFoundError\u001b[0m: [Errno 2] No such file or directory: 'vocabularies.json'"
     ]
    }
   ],
   "source": [
    "import nltk\n",
    "import random\n",
    "import json\n",
    "from datetime import datetime, timedelta\n",
    "\n",
    "# Initialize the NLTK library (you may need to download data)\n",
    "nltk.download(\"punkt\")\n",
    "\n",
    "def load_vocabularies_from_json(json_file):\n",
    "    with open(json_file, \"r\") as file:\n",
    "        return json.load(file)\n",
    "\n",
    "# Sample user accounts (you can replace this with a database in a real application)\n",
    "user_accounts = {\n",
    "    \"alice\": {\n",
    "        \"name\": \"Alice\",\n",
    "        \"age\": 6,\n",
    "        \"start_date\": datetime.now()  # Store the account creation date\n",
    "    },\n",
    "    \"bob\": {\n",
    "        \"name\": \"Bob\",\n",
    "        \"age\": 5,\n",
    "        \"start_date\": datetime.now()  # Store the account creation date\n",
    "    },\n",
    "    # Add more user accounts as needed\n",
    "}\n",
    "\n",
    "def generate_vocabulary_for_week(vocabularies, week_number):\n",
    "    week_key = str(week_number % len(vocabularies) + 1)\n",
    "    return vocabularies[week_key]\n",
    "\n",
    "def get_current_week_number(account_creation_date):\n",
    "    # Calculate the current week number relative to the account creation date\n",
    "    current_date = datetime.now()\n",
    "    weeks_passed = (current_date - account_creation_date).days // 7 + 1\n",
    "    return weeks_passed\n",
    "\n",
    "def get_user_vocabulary(user_name, vocabularies):\n",
    "    user_info = user_accounts.get(user_name)\n",
    "    if user_info:\n",
    "        current_week = get_current_week_number(user_info[\"start_date\"])\n",
    "        return generate_vocabulary_for_week(vocabularies, current_week)\n",
    "    else:\n",
    "        return [\"User not found. Please create an account first.\"]\n",
    "\n",
    "# Load vocabularies from the JSON file\n",
    "vocabularies_file = \"vocabularies.json\"\n",
    "vocabularies = load_vocabularies_from_json(vocabularies_file)\n",
    "\n",
    "# Test the chatbot with some sample user interactions\n",
    "user_name = \"alice\"\n",
    "print(get_user_vocabulary(user_name, vocabularies))\n",
    "\n",
    "user_name = \"bob\"\n",
    "print(get_user_vocabulary(user_name, vocabularies))\n"
   ]
  },
  {
   "cell_type": "code",
   "execution_count": null,
   "id": "0d48d228",
   "metadata": {},
   "outputs": [],
   "source": []
  }
 ],
 "metadata": {
  "kernelspec": {
   "display_name": "Python 3 (ipykernel)",
   "language": "python",
   "name": "python3"
  },
  "language_info": {
   "codemirror_mode": {
    "name": "ipython",
    "version": 3
   },
   "file_extension": ".py",
   "mimetype": "text/x-python",
   "name": "python",
   "nbconvert_exporter": "python",
   "pygments_lexer": "ipython3",
   "version": "3.11.3"
  }
 },
 "nbformat": 4,
 "nbformat_minor": 5
}

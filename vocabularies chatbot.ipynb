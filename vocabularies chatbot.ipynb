{
 "cells": [
  {
   "cell_type": "code",
   "execution_count": 11,
   "id": "55b8d689",
   "metadata": {},
   "outputs": [
    {
     "name": "stdout",
     "output_type": "stream",
     "text": [
      "Requirement already satisfied: nltk in c:\\users\\erica computer hub\\anaconda3\\new folder\\lib\\site-packages (3.7)\n",
      "Requirement already satisfied: click in c:\\users\\erica computer hub\\anaconda3\\new folder\\lib\\site-packages (from nltk) (8.0.4)\n",
      "Requirement already satisfied: joblib in c:\\users\\erica computer hub\\anaconda3\\new folder\\lib\\site-packages (from nltk) (1.2.0)\n",
      "Requirement already satisfied: regex>=2021.8.3 in c:\\users\\erica computer hub\\anaconda3\\new folder\\lib\\site-packages (from nltk) (2022.7.9)\n",
      "Requirement already satisfied: tqdm in c:\\users\\erica computer hub\\anaconda3\\new folder\\lib\\site-packages (from nltk) (4.65.0)\n",
      "Requirement already satisfied: colorama in c:\\users\\erica computer hub\\anaconda3\\new folder\\lib\\site-packages (from click->nltk) (0.4.6)\n",
      "Note: you may need to restart the kernel to use updated packages.\n"
     ]
    }
   ],
   "source": [
    "pip install nltk\n"
   ]
  },
  {
   "cell_type": "code",
   "execution_count": 14,
   "id": "e7d61b9a",
   "metadata": {},
   "outputs": [
    {
     "name": "stdout",
     "output_type": "stream",
     "text": [
      "{'word': 'banana', 'definition': 'a long curved fruit with a yellow skin'}\n",
      "{'word': 'banana', 'definition': 'a long curved fruit with a yellow skin'}\n"
     ]
    },
    {
     "name": "stderr",
     "output_type": "stream",
     "text": [
      "[nltk_data] Downloading package punkt to C:\\Users\\ERICA COMPUTER\n",
      "[nltk_data]     HUB\\AppData\\Roaming\\nltk_data...\n",
      "[nltk_data]   Package punkt is already up-to-date!\n"
     ]
    }
   ],
   "source": [
    "import nltk\n",
    "import random\n",
    "import json\n",
    "from datetime import datetime, timedelta\n",
    "\n",
    "# Initialize the NLTK library (you may need to download data)\n",
    "nltk.download(\"punkt\")\n",
    "\n",
    "def load_vocabularies_from_json(json_file):\n",
    "    with open(json_file, \"r\") as file:\n",
    "        return json.load(file)\n",
    "\n",
    "# Sample user accounts (you can replace this with a database in a real application)\n",
    "user_accounts = {\n",
    "    \"alice\": {\n",
    "        \"name\": \"Alice\",\n",
    "        \"age\": 6,\n",
    "        \"start_date\": datetime.now()  # Store the account creation date\n",
    "    },\n",
    "    \"bob\": {\n",
    "        \"name\": \"Bob\",\n",
    "        \"age\": 5,\n",
    "        \"start_date\": datetime.now()  # Store the account creation date\n",
    "    },\n",
    "    # Add more user accounts as needed\n",
    "}\n",
    "\n",
    "def generate_vocabulary_for_week(vocabularies, week_number):\n",
    "    week_key = str(week_number % len(vocabularies) + 1)\n",
    "    return vocabularies[week_key]\n",
    "\n",
    "def get_current_week_number(account_creation_date):\n",
    "    # Calculate the current week number relative to the account creation date\n",
    "    current_date = datetime.now()\n",
    "    weeks_passed = (current_date - account_creation_date).days // 7 + 1\n",
    "    return weeks_passed\n",
    "\n",
    "def get_user_vocabulary(user_name, vocabularies):\n",
    "    user_info = user_accounts.get(user_name)\n",
    "    if user_info:\n",
    "        current_week = get_current_week_number(user_info[\"start_date\"])\n",
    "        return generate_vocabulary_for_week(vocabularies, current_week)\n",
    "    else:\n",
    "        return [\"User not found. Please create an account first.\"]\n",
    "\n",
    "# Load vocabularies from the JSON file\n",
    "vocabularies_file = \"vocabularies.json\"\n",
    "vocabularies = load_vocabularies_from_json(vocabularies_file)\n",
    "\n",
    "# Test the chatbot with some sample user interactions\n",
    "user_name = \"alice\"\n",
    "print(get_user_vocabulary(user_name, vocabularies))\n",
    "\n",
    "user_name = \"bob\"\n",
    "print(get_user_vocabulary(user_name, vocabularies))\n"
   ]
  },
  {
   "cell_type": "code",
   "execution_count": null,
   "id": "0d48d228",
   "metadata": {},
   "outputs": [],
   "source": []
  }
 ],
 "metadata": {
  "kernelspec": {
   "display_name": "Python 3 (ipykernel)",
   "language": "python",
   "name": "python3"
  },
  "language_info": {
   "codemirror_mode": {
    "name": "ipython",
    "version": 3
   },
   "file_extension": ".py",
   "mimetype": "text/x-python",
   "name": "python",
   "nbconvert_exporter": "python",
   "pygments_lexer": "ipython3",
   "version": "3.11.3"
  }
 },
 "nbformat": 4,
 "nbformat_minor": 5
}

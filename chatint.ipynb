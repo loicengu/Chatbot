{
 "cells": [
  {
   "cell_type": "code",
   "execution_count": 1,
   "id": "128f74fd",
   "metadata": {},
   "outputs": [
    {
     "name": "stdout",
     "output_type": "stream",
     "text": [
      "Requirement already satisfied: nltk in c:\\users\\erica computer hub\\anaconda3\\new folder\\lib\\site-packages (3.7)\n",
      "Requirement already satisfied: click in c:\\users\\erica computer hub\\anaconda3\\new folder\\lib\\site-packages (from nltk) (8.0.4)\n",
      "Requirement already satisfied: joblib in c:\\users\\erica computer hub\\anaconda3\\new folder\\lib\\site-packages (from nltk) (1.2.0)\n",
      "Requirement already satisfied: regex>=2021.8.3 in c:\\users\\erica computer hub\\anaconda3\\new folder\\lib\\site-packages (from nltk) (2022.7.9)\n",
      "Requirement already satisfied: tqdm in c:\\users\\erica computer hub\\anaconda3\\new folder\\lib\\site-packages (from nltk) (4.65.0)\n",
      "Requirement already satisfied: colorama in c:\\users\\erica computer hub\\anaconda3\\new folder\\lib\\site-packages (from click->nltk) (0.4.6)\n",
      "Note: you may need to restart the kernel to use updated packages.\n"
     ]
    }
   ],
   "source": [
    "pip install nltk\n"
   ]
  },
  {
   "cell_type": "code",
   "execution_count": null,
   "id": "6abd9ac7",
   "metadata": {},
   "outputs": [
    {
     "name": "stdout",
     "output_type": "stream",
     "text": [
      "Hello, child! Let's learn some new words.\n",
      "Press Enter to get a new word and its definition.\n",
      "Word: guitar\n",
      "Definition: a musical instrument with strings that is played with fingers or a pick\n",
      "Press Enter to get a new word and its definition.\n",
      "Word: train\n",
      "Definition: a set of connected vehicles traveling on tracks, used for transportation\n",
      "Press Enter to get a new word and its definition.\n",
      "Word: flower\n",
      "Definition: the reproductive structure found in plants, usually colorful and fragrant\n"
     ]
    }
   ],
   "source": [
    "import json\n",
    "import random\n",
    "\n",
    "def load_vocabularies_from_json(json_file):\n",
    "    with open(json_file, \"r\") as file:\n",
    "        return json.load(file)\n",
    "\n",
    "def get_new_word(vocabularies):\n",
    "    word = random.choice(list(vocabularies.keys()))\n",
    "    definition = vocabularies[word][\"definition\"]\n",
    "    return word, definition\n",
    "\n",
    "# Load vocabularies from the JSON file\n",
    "vocabularies_file = \"vocabularies.json\"\n",
    "vocabularies = load_vocabularies_from_json(vocabularies_file)\n",
    "\n",
    "print(\"Hello, child! Let's learn some new words.\")\n",
    "while True:\n",
    "    input(\"Press Enter to get a new word and its definition.\")\n",
    "    word, definition = get_new_word(vocabularies)\n",
    "    print(f\"Word: {word}\")\n",
    "    print(f\"Definition: {definition}\")\n"
   ]
  },
  {
   "cell_type": "code",
   "execution_count": null,
   "id": "b8ff67e3",
   "metadata": {},
   "outputs": [],
   "source": []
  },
  {
   "cell_type": "code",
   "execution_count": null,
   "id": "a605380e",
   "metadata": {},
   "outputs": [],
   "source": []
  }
 ],
 "metadata": {
  "kernelspec": {
   "display_name": "Python 3 (ipykernel)",
   "language": "python",
   "name": "python3"
  },
  "language_info": {
   "codemirror_mode": {
    "name": "ipython",
    "version": 3
   },
   "file_extension": ".py",
   "mimetype": "text/x-python",
   "name": "python",
   "nbconvert_exporter": "python",
   "pygments_lexer": "ipython3",
   "version": "3.11.3"
  }
 },
 "nbformat": 4,
 "nbformat_minor": 5
}

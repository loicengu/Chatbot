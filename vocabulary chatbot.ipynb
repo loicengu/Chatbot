{
 "cells": [
  {
   "cell_type": "code",
   "execution_count": 2,
   "id": "d29e3b0b",
   "metadata": {},
   "outputs": [
    {
     "name": "stdout",
     "output_type": "stream",
     "text": [
      "Requirement already satisfied: nltk in c:\\users\\erica computer hub\\anaconda3\\new folder\\lib\\site-packages (3.7)\n",
      "Requirement already satisfied: click in c:\\users\\erica computer hub\\anaconda3\\new folder\\lib\\site-packages (from nltk) (8.0.4)\n",
      "Requirement already satisfied: joblib in c:\\users\\erica computer hub\\anaconda3\\new folder\\lib\\site-packages (from nltk) (1.2.0)\n",
      "Requirement already satisfied: regex>=2021.8.3 in c:\\users\\erica computer hub\\anaconda3\\new folder\\lib\\site-packages (from nltk) (2022.7.9)\n",
      "Requirement already satisfied: tqdm in c:\\users\\erica computer hub\\anaconda3\\new folder\\lib\\site-packages (from nltk) (4.65.0)\n",
      "Requirement already satisfied: colorama in c:\\users\\erica computer hub\\anaconda3\\new folder\\lib\\site-packages (from click->nltk) (0.4.6)\n",
      "Note: you may need to restart the kernel to use updated packages.\n"
     ]
    }
   ],
   "source": [
    "pip install nltk\n"
   ]
  },
  {
   "cell_type": "code",
   "execution_count": 1,
   "id": "d3d752e5",
   "metadata": {},
   "outputs": [
    {
     "name": "stdout",
     "output_type": "stream",
     "text": [
      "[]\n",
      "[]\n"
     ]
    },
    {
     "name": "stderr",
     "output_type": "stream",
     "text": [
      "[nltk_data] Error loading punkt: <urlopen error [WinError 10054] An\n",
      "[nltk_data]     existing connection was forcibly closed by the remote\n",
      "[nltk_data]     host>\n"
     ]
    }
   ],
   "source": [
    "import nltk\n",
    "import random\n",
    "from datetime import datetime, timedelta\n",
    "\n",
    "# Initialize the NLTK library (you may need to download data)\n",
    "nltk.download(\"punkt\")\n",
    "\n",
    "# Sample vocabulary for the chatbot to use\n",
    "vocabulary = {\n",
    "    \"week1\": [\"apple\", \"banana\", \"orange\", \"grape\"],\n",
    "    \"week2\": [\"cat\", \"dog\", \"bird\", \"fish\"],\n",
    "    # Add more vocabulary lists for subsequent weeks\n",
    "}\n",
    "\n",
    "# Sample user accounts (you can replace this with a database in a real application)\n",
    "user_accounts = {\n",
    "    \"alice\": {\n",
    "        \"name\": \"Alice\",\n",
    "        \"age\": 6,\n",
    "        \"last_vocabulary_week\": 0  # Initialize to 0 to start from the first week\n",
    "    },\n",
    "    \"bob\": {\n",
    "        \"name\": \"Bob\",\n",
    "        \"age\": 5,\n",
    "        \"last_vocabulary_week\": 0\n",
    "    },\n",
    "    # Add more user accounts as needed\n",
    "}\n",
    "\n",
    "def generate_vocabulary_for_week(week_number):\n",
    "    week_key = f\"week{week_number}\"\n",
    "    if week_key in vocabulary:\n",
    "        return vocabulary[week_key]\n",
    "    else:\n",
    "        return []\n",
    "\n",
    "def get_current_week_number():\n",
    "    # Calculate the current week number\n",
    "    current_date = datetime.now()\n",
    "    start_date = datetime(year=current_date.year, month=1, day=1)\n",
    "    current_week = (current_date - start_date).days // 7 + 1\n",
    "    return current_week\n",
    "\n",
    "def get_user_vocabulary(user_name):\n",
    "    user_info = user_accounts.get(user_name)\n",
    "    if user_info:\n",
    "        current_week = get_current_week_number()\n",
    "        last_week = user_info[\"last_vocabulary_week\"]\n",
    "        if current_week > last_week:\n",
    "            # Generate new vocabulary for the user for the current week\n",
    "            user_info[\"last_vocabulary_week\"] = current_week\n",
    "            return generate_vocabulary_for_week(current_week)\n",
    "        else:\n",
    "            # User has already received vocabulary for this week\n",
    "            return [\"You already received this week's vocabulary.\"]\n",
    "    else:\n",
    "        return [\"User not found. Please create an account first.\"]\n",
    "\n",
    "# Test the chatbot with some sample user interactions\n",
    "user_name = \"alice\"\n",
    "print(get_user_vocabulary(user_name))\n",
    "\n",
    "user_name = \"bob\"\n",
    "print(get_user_vocabulary(user_name))\n"
   ]
  },
  {
   "cell_type": "code",
   "execution_count": null,
   "id": "fbd20922",
   "metadata": {},
   "outputs": [],
   "source": []
  }
 ],
 "metadata": {
  "kernelspec": {
   "display_name": "Python 3 (ipykernel)",
   "language": "python",
   "name": "python3"
  },
  "language_info": {
   "codemirror_mode": {
    "name": "ipython",
    "version": 3
   },
   "file_extension": ".py",
   "mimetype": "text/x-python",
   "name": "python",
   "nbconvert_exporter": "python",
   "pygments_lexer": "ipython3",
   "version": "3.11.3"
  }
 },
 "nbformat": 4,
 "nbformat_minor": 5
}
